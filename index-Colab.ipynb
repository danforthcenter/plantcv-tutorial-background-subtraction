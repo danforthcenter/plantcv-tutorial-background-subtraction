{
 "cells": [
  {
   "cell_type": "markdown",
   "id": "8b1d33cb-61df-402a-949d-f480a5ff034a",
   "metadata": {},
   "source": [
    "# Image Segmentation - Part 5: Background Subtraction\n",
    "\n",
    "Made by: Noah Fahlgren Updated: July 18, 2025"
   ]
  },
  {
   "cell_type": "markdown",
   "id": "78a73468-f6a4-4f87-b14e-967fe4a058a6",
   "metadata": {},
   "source": [
    "## About this jupyter notebook\n",
    "\n",
    "[Background subtraction](https://plantcv.readthedocs.io/en/stable/background_subtraction/) builds a color model from an image without the subject (e.g. plant) and segments pixels in the foreground image into those that fall within the background model and those that do not. Pixels that fall outside of the background distribution are labeled white."
   ]
  },
  {
   "cell_type": "markdown",
   "id": "16872ec8-71c2-4929-af68-2e155fcc52c5",
   "metadata": {},
   "source": [
    "# Importing libraries and image"
   ]
  },
  {
   "cell_type": "code",
   "execution_count": null,
   "id": "a363a6d2-8dfc-41d7-8abc-a0929dcd9323",
   "metadata": {},
   "outputs": [],
   "source": [
    "## Import software libraries\n",
    "%matplotlib widget\n",
    "import matplotlib\n",
    "from plantcv import plantcv as pcv\n",
    "\n",
    "# Print out the version of PlantCV being used by the Jupyter kernel\n",
    "pcv.__version__"
   ]
  },
  {
   "cell_type": "code",
   "execution_count": null,
   "id": "0c60860d-d6c9-43cf-b48c-04aad0ec60d7",
   "metadata": {},
   "outputs": [],
   "source": [
    "# Global settings\n",
    "matplotlib.rcParams[\"figure.max_open_warning\"] = False\n",
    "pcv.params.debug = \"plot\"\n",
    "pcv.params.text_size = 30\n",
    "pcv.params.text_thickness = 20\n",
    "pcv.params.line_thickness = 10"
   ]
  },
  {
   "cell_type": "markdown",
   "id": "07f02076-4bdf-46d3-b9ed-2f9ca0c69150",
   "metadata": {},
   "source": [
    "## Read in image data"
   ]
  },
  {
   "cell_type": "code",
   "execution_count": null,
   "id": "3ad8a6e6-2c13-4450-9bf2-dc31ce3f0982",
   "metadata": {},
   "outputs": [],
   "source": [
    "# Open the foreground image file\n",
    "color_img, imgpath, imgname = pcv.io.open_url(url=\"https://github.com/danforthcenter/plantcv-tutorial-background-subtraction/blob/main/img/helianthus_seeds.png?raw=true\")\n"
   ]
  },
  {
   "cell_type": "code",
   "execution_count": null,
   "id": "a20c1bfa",
   "metadata": {},
   "outputs": [],
   "source": [
    "# Open the background image file\n",
    "bkgd_img, bkgdpath, bkgdname = pcv.io.open_url(url=\"https://github.com/danforthcenter/plantcv-tutorial-background-subtraction/blob/main/img/helianthus_background.png?raw=true\")\n"
   ]
  },
  {
   "cell_type": "markdown",
   "id": "c13eba33",
   "metadata": {},
   "source": [
    "## Segment the seeds using background subtraction"
   ]
  },
  {
   "cell_type": "code",
   "execution_count": null,
   "id": "74470362-e733-4fc8-9b45-8bad7d58cd34",
   "metadata": {},
   "outputs": [],
   "source": [
    "# Segment the plant roots using background subtraction\n",
    "sub = pcv.background_subtraction(background_image=bkgd_img, foreground_image=color_img)"
   ]
  },
  {
   "cell_type": "code",
   "execution_count": null,
   "id": "05f077f9",
   "metadata": {},
   "outputs": [],
   "source": []
  }
 ],
 "metadata": {
  "kernelspec": {
   "display_name": "plantcv",
   "language": "python",
   "name": "python3"
  },
  "language_info": {
   "codemirror_mode": {
    "name": "ipython",
    "version": 3
   },
   "file_extension": ".py",
   "mimetype": "text/x-python",
   "name": "python",
   "nbconvert_exporter": "python",
   "pygments_lexer": "ipython3",
   "version": "3.11.13"
  }
 },
 "nbformat": 4,
 "nbformat_minor": 5
}
